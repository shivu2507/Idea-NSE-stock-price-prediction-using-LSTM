{
 "cells": [
  {
   "cell_type": "code",
   "execution_count": 1,
   "metadata": {},
   "outputs": [],
   "source": [
    "import warnings\n",
    "warnings.filterwarnings('ignore')"
   ]
  },
  {
   "cell_type": "code",
   "execution_count": 2,
   "metadata": {},
   "outputs": [],
   "source": [
    "import pandas as pd\n",
    "import yfinance as yf\n",
    "import datetime"
   ]
  },
  {
   "cell_type": "code",
   "execution_count": 3,
   "metadata": {},
   "outputs": [],
   "source": [
    "ticker = [\"IDEA.NS\"]"
   ]
  },
  {
   "cell_type": "code",
   "execution_count": 4,
   "metadata": {},
   "outputs": [
    {
     "name": "stdout",
     "output_type": "stream",
     "text": [
      "[*********************100%***********************]  1 of 1 completed\n"
     ]
    }
   ],
   "source": [
    "vi_stocks = yf.download(ticker, start = \"2016-01-01\", end = \"2020-12-04\")"
   ]
  },
  {
   "cell_type": "code",
   "execution_count": 5,
   "metadata": {},
   "outputs": [
    {
     "data": {
      "text/html": [
       "<div>\n",
       "<style scoped>\n",
       "    .dataframe tbody tr th:only-of-type {\n",
       "        vertical-align: middle;\n",
       "    }\n",
       "\n",
       "    .dataframe tbody tr th {\n",
       "        vertical-align: top;\n",
       "    }\n",
       "\n",
       "    .dataframe thead th {\n",
       "        text-align: right;\n",
       "    }\n",
       "</style>\n",
       "<table border=\"1\" class=\"dataframe\">\n",
       "  <thead>\n",
       "    <tr style=\"text-align: right;\">\n",
       "      <th></th>\n",
       "      <th>Open</th>\n",
       "      <th>High</th>\n",
       "      <th>Low</th>\n",
       "      <th>Close</th>\n",
       "      <th>Adj Close</th>\n",
       "      <th>Volume</th>\n",
       "    </tr>\n",
       "    <tr>\n",
       "      <th>Date</th>\n",
       "      <th></th>\n",
       "      <th></th>\n",
       "      <th></th>\n",
       "      <th></th>\n",
       "      <th></th>\n",
       "      <th></th>\n",
       "    </tr>\n",
       "  </thead>\n",
       "  <tbody>\n",
       "    <tr>\n",
       "      <th>2016-01-01</th>\n",
       "      <td>86.194397</td>\n",
       "      <td>87.098900</td>\n",
       "      <td>85.742203</td>\n",
       "      <td>86.345200</td>\n",
       "      <td>85.327797</td>\n",
       "      <td>1686813</td>\n",
       "    </tr>\n",
       "    <tr>\n",
       "      <th>2016-01-04</th>\n",
       "      <td>85.169403</td>\n",
       "      <td>85.862801</td>\n",
       "      <td>81.189796</td>\n",
       "      <td>81.762604</td>\n",
       "      <td>80.799194</td>\n",
       "      <td>4585633</td>\n",
       "    </tr>\n",
       "    <tr>\n",
       "      <th>2016-01-05</th>\n",
       "      <td>82.154503</td>\n",
       "      <td>83.209702</td>\n",
       "      <td>81.069199</td>\n",
       "      <td>81.611900</td>\n",
       "      <td>80.650269</td>\n",
       "      <td>3219017</td>\n",
       "    </tr>\n",
       "    <tr>\n",
       "      <th>2016-01-06</th>\n",
       "      <td>81.702301</td>\n",
       "      <td>83.209702</td>\n",
       "      <td>80.677299</td>\n",
       "      <td>81.099297</td>\n",
       "      <td>80.143700</td>\n",
       "      <td>6293905</td>\n",
       "    </tr>\n",
       "    <tr>\n",
       "      <th>2016-01-07</th>\n",
       "      <td>80.586800</td>\n",
       "      <td>81.551598</td>\n",
       "      <td>79.019096</td>\n",
       "      <td>80.436096</td>\n",
       "      <td>79.488319</td>\n",
       "      <td>5184476</td>\n",
       "    </tr>\n",
       "  </tbody>\n",
       "</table>\n",
       "</div>"
      ],
      "text/plain": [
       "                 Open       High        Low      Close  Adj Close   Volume\n",
       "Date                                                                      \n",
       "2016-01-01  86.194397  87.098900  85.742203  86.345200  85.327797  1686813\n",
       "2016-01-04  85.169403  85.862801  81.189796  81.762604  80.799194  4585633\n",
       "2016-01-05  82.154503  83.209702  81.069199  81.611900  80.650269  3219017\n",
       "2016-01-06  81.702301  83.209702  80.677299  81.099297  80.143700  6293905\n",
       "2016-01-07  80.586800  81.551598  79.019096  80.436096  79.488319  5184476"
      ]
     },
     "execution_count": 5,
     "metadata": {},
     "output_type": "execute_result"
    }
   ],
   "source": [
    "vi_stocks.head()"
   ]
  },
  {
   "cell_type": "code",
   "execution_count": 6,
   "metadata": {},
   "outputs": [
    {
     "data": {
      "text/html": [
       "<div>\n",
       "<style scoped>\n",
       "    .dataframe tbody tr th:only-of-type {\n",
       "        vertical-align: middle;\n",
       "    }\n",
       "\n",
       "    .dataframe tbody tr th {\n",
       "        vertical-align: top;\n",
       "    }\n",
       "\n",
       "    .dataframe thead th {\n",
       "        text-align: right;\n",
       "    }\n",
       "</style>\n",
       "<table border=\"1\" class=\"dataframe\">\n",
       "  <thead>\n",
       "    <tr style=\"text-align: right;\">\n",
       "      <th></th>\n",
       "      <th>Open</th>\n",
       "      <th>High</th>\n",
       "      <th>Low</th>\n",
       "      <th>Close</th>\n",
       "      <th>Adj Close</th>\n",
       "      <th>Volume</th>\n",
       "    </tr>\n",
       "    <tr>\n",
       "      <th>Date</th>\n",
       "      <th></th>\n",
       "      <th></th>\n",
       "      <th></th>\n",
       "      <th></th>\n",
       "      <th></th>\n",
       "      <th></th>\n",
       "    </tr>\n",
       "  </thead>\n",
       "  <tbody>\n",
       "    <tr>\n",
       "      <th>2020-11-26</th>\n",
       "      <td>9.70</td>\n",
       "      <td>10.00</td>\n",
       "      <td>9.60</td>\n",
       "      <td>9.95</td>\n",
       "      <td>9.95</td>\n",
       "      <td>273322035</td>\n",
       "    </tr>\n",
       "    <tr>\n",
       "      <th>2020-11-27</th>\n",
       "      <td>10.00</td>\n",
       "      <td>10.10</td>\n",
       "      <td>9.65</td>\n",
       "      <td>9.80</td>\n",
       "      <td>9.80</td>\n",
       "      <td>211191365</td>\n",
       "    </tr>\n",
       "    <tr>\n",
       "      <th>2020-12-01</th>\n",
       "      <td>9.80</td>\n",
       "      <td>10.35</td>\n",
       "      <td>9.60</td>\n",
       "      <td>10.00</td>\n",
       "      <td>10.00</td>\n",
       "      <td>354320484</td>\n",
       "    </tr>\n",
       "    <tr>\n",
       "      <th>2020-12-02</th>\n",
       "      <td>9.95</td>\n",
       "      <td>10.20</td>\n",
       "      <td>9.80</td>\n",
       "      <td>9.90</td>\n",
       "      <td>9.90</td>\n",
       "      <td>172606976</td>\n",
       "    </tr>\n",
       "    <tr>\n",
       "      <th>2020-12-03</th>\n",
       "      <td>10.00</td>\n",
       "      <td>10.05</td>\n",
       "      <td>9.80</td>\n",
       "      <td>9.95</td>\n",
       "      <td>9.95</td>\n",
       "      <td>151257328</td>\n",
       "    </tr>\n",
       "  </tbody>\n",
       "</table>\n",
       "</div>"
      ],
      "text/plain": [
       "             Open   High   Low  Close  Adj Close     Volume\n",
       "Date                                                       \n",
       "2020-11-26   9.70  10.00  9.60   9.95       9.95  273322035\n",
       "2020-11-27  10.00  10.10  9.65   9.80       9.80  211191365\n",
       "2020-12-01   9.80  10.35  9.60  10.00      10.00  354320484\n",
       "2020-12-02   9.95  10.20  9.80   9.90       9.90  172606976\n",
       "2020-12-03  10.00  10.05  9.80   9.95       9.95  151257328"
      ]
     },
     "execution_count": 6,
     "metadata": {},
     "output_type": "execute_result"
    }
   ],
   "source": [
    "vi_stocks.tail()"
   ]
  },
  {
   "cell_type": "code",
   "execution_count": 7,
   "metadata": {},
   "outputs": [
    {
     "name": "stdout",
     "output_type": "stream",
     "text": [
      "<class 'pandas.core.frame.DataFrame'>\n",
      "DatetimeIndex: 1213 entries, 2016-01-01 to 2020-12-03\n",
      "Data columns (total 6 columns):\n",
      " #   Column     Non-Null Count  Dtype  \n",
      "---  ------     --------------  -----  \n",
      " 0   Open       1213 non-null   float64\n",
      " 1   High       1213 non-null   float64\n",
      " 2   Low        1213 non-null   float64\n",
      " 3   Close      1213 non-null   float64\n",
      " 4   Adj Close  1213 non-null   float64\n",
      " 5   Volume     1213 non-null   int64  \n",
      "dtypes: float64(5), int64(1)\n",
      "memory usage: 66.3 KB\n"
     ]
    }
   ],
   "source": [
    "vi_stocks.info()"
   ]
  },
  {
   "cell_type": "code",
   "execution_count": 8,
   "metadata": {},
   "outputs": [
    {
     "data": {
      "text/html": [
       "<div>\n",
       "<style scoped>\n",
       "    .dataframe tbody tr th:only-of-type {\n",
       "        vertical-align: middle;\n",
       "    }\n",
       "\n",
       "    .dataframe tbody tr th {\n",
       "        vertical-align: top;\n",
       "    }\n",
       "\n",
       "    .dataframe thead th {\n",
       "        text-align: right;\n",
       "    }\n",
       "</style>\n",
       "<table border=\"1\" class=\"dataframe\">\n",
       "  <thead>\n",
       "    <tr style=\"text-align: right;\">\n",
       "      <th></th>\n",
       "      <th>Open</th>\n",
       "      <th>High</th>\n",
       "      <th>Low</th>\n",
       "      <th>Close</th>\n",
       "      <th>Adj Close</th>\n",
       "      <th>Volume</th>\n",
       "    </tr>\n",
       "  </thead>\n",
       "  <tbody>\n",
       "    <tr>\n",
       "      <th>count</th>\n",
       "      <td>1213.000000</td>\n",
       "      <td>1213.000000</td>\n",
       "      <td>1213.000000</td>\n",
       "      <td>1213.000000</td>\n",
       "      <td>1213.000000</td>\n",
       "      <td>1.213000e+03</td>\n",
       "    </tr>\n",
       "    <tr>\n",
       "      <th>mean</th>\n",
       "      <td>34.241079</td>\n",
       "      <td>34.933263</td>\n",
       "      <td>33.448977</td>\n",
       "      <td>34.124159</td>\n",
       "      <td>34.013319</td>\n",
       "      <td>1.135101e+08</td>\n",
       "    </tr>\n",
       "    <tr>\n",
       "      <th>std</th>\n",
       "      <td>22.681052</td>\n",
       "      <td>23.039450</td>\n",
       "      <td>22.301898</td>\n",
       "      <td>22.630716</td>\n",
       "      <td>22.481730</td>\n",
       "      <td>1.885403e+08</td>\n",
       "    </tr>\n",
       "    <tr>\n",
       "      <th>min</th>\n",
       "      <td>2.700000</td>\n",
       "      <td>3.150000</td>\n",
       "      <td>2.400000</td>\n",
       "      <td>2.950000</td>\n",
       "      <td>2.950000</td>\n",
       "      <td>5.348700e+05</td>\n",
       "    </tr>\n",
       "    <tr>\n",
       "      <th>25%</th>\n",
       "      <td>10.100000</td>\n",
       "      <td>10.450000</td>\n",
       "      <td>9.650000</td>\n",
       "      <td>10.050000</td>\n",
       "      <td>10.050000</td>\n",
       "      <td>1.344610e+07</td>\n",
       "    </tr>\n",
       "    <tr>\n",
       "      <th>50%</th>\n",
       "      <td>34.972198</td>\n",
       "      <td>35.846500</td>\n",
       "      <td>33.464802</td>\n",
       "      <td>34.308899</td>\n",
       "      <td>34.308899</td>\n",
       "      <td>3.111071e+07</td>\n",
       "    </tr>\n",
       "    <tr>\n",
       "      <th>75%</th>\n",
       "      <td>53.664200</td>\n",
       "      <td>55.081200</td>\n",
       "      <td>52.759800</td>\n",
       "      <td>53.634102</td>\n",
       "      <td>53.634102</td>\n",
       "      <td>1.211253e+08</td>\n",
       "    </tr>\n",
       "    <tr>\n",
       "      <th>max</th>\n",
       "      <td>86.194397</td>\n",
       "      <td>87.098900</td>\n",
       "      <td>85.742203</td>\n",
       "      <td>86.345200</td>\n",
       "      <td>85.327797</td>\n",
       "      <td>1.073742e+09</td>\n",
       "    </tr>\n",
       "  </tbody>\n",
       "</table>\n",
       "</div>"
      ],
      "text/plain": [
       "              Open         High          Low        Close    Adj Close  \\\n",
       "count  1213.000000  1213.000000  1213.000000  1213.000000  1213.000000   \n",
       "mean     34.241079    34.933263    33.448977    34.124159    34.013319   \n",
       "std      22.681052    23.039450    22.301898    22.630716    22.481730   \n",
       "min       2.700000     3.150000     2.400000     2.950000     2.950000   \n",
       "25%      10.100000    10.450000     9.650000    10.050000    10.050000   \n",
       "50%      34.972198    35.846500    33.464802    34.308899    34.308899   \n",
       "75%      53.664200    55.081200    52.759800    53.634102    53.634102   \n",
       "max      86.194397    87.098900    85.742203    86.345200    85.327797   \n",
       "\n",
       "             Volume  \n",
       "count  1.213000e+03  \n",
       "mean   1.135101e+08  \n",
       "std    1.885403e+08  \n",
       "min    5.348700e+05  \n",
       "25%    1.344610e+07  \n",
       "50%    3.111071e+07  \n",
       "75%    1.211253e+08  \n",
       "max    1.073742e+09  "
      ]
     },
     "execution_count": 8,
     "metadata": {},
     "output_type": "execute_result"
    }
   ],
   "source": [
    "vi_stocks.describe()"
   ]
  },
  {
   "cell_type": "code",
   "execution_count": 9,
   "metadata": {},
   "outputs": [
    {
     "data": {
      "text/plain": [
       "0       86.345200\n",
       "1       81.762604\n",
       "2       81.611900\n",
       "3       81.099297\n",
       "4       80.436096\n",
       "          ...    \n",
       "1208     9.950000\n",
       "1209     9.800000\n",
       "1210    10.000000\n",
       "1211     9.900000\n",
       "1212     9.950000\n",
       "Name: Close, Length: 1213, dtype: float64"
      ]
     },
     "execution_count": 9,
     "metadata": {},
     "output_type": "execute_result"
    }
   ],
   "source": [
    "vi_close = vi_stocks.reset_index()['Close']\n",
    "vi_close"
   ]
  },
  {
   "cell_type": "code",
   "execution_count": 10,
   "metadata": {},
   "outputs": [
    {
     "data": {
      "text/plain": [
       "(1213,)"
      ]
     },
     "execution_count": 10,
     "metadata": {},
     "output_type": "execute_result"
    }
   ],
   "source": [
    "vi_close.shape"
   ]
  },
  {
   "cell_type": "code",
   "execution_count": 11,
   "metadata": {},
   "outputs": [
    {
     "data": {
      "text/plain": [
       "[<matplotlib.lines.Line2D at 0x22e6a4e55c8>]"
      ]
     },
     "execution_count": 11,
     "metadata": {},
     "output_type": "execute_result"
    },
    {
     "data": {
      "image/png": "[encoded data removed]",
      "text/plain": [
       "<Figure size 1440x432 with 1 Axes>"
      ]
     },
     "metadata": {
      "needs_background": "light"
     },
     "output_type": "display_data"
    }
   ],
   "source": [
    "import matplotlib.pyplot as plt\n",
    "plt.figure(figsize = [20,6])\n",
    "plt.plot(vi_close)"
   ]
  },
  {
   "cell_type": "markdown",
   "metadata": {},
   "source": [
    "### LSTM Model"
   ]
  },
  {
   "cell_type": "code",
   "execution_count": 12,
   "metadata": {},
   "outputs": [],
   "source": [
    "import numpy as np"
   ]
  },
  {
   "cell_type": "code",
   "execution_count": 13,
   "metadata": {},
   "outputs": [],
   "source": [
    "from sklearn.preprocessing import MinMaxScaler\n",
    "scaler = MinMaxScaler(feature_range=(0,1))\n",
    "vi_close = scaler.fit_transform(np.array(vi_close).reshape(-1,1))"
   ]
  },
  {
   "cell_type": "code",
   "execution_count": 14,
   "metadata": {},
   "outputs": [
    {
     "data": {
      "text/plain": [
       "(1213, 1)"
      ]
     },
     "execution_count": 14,
     "metadata": {},
     "output_type": "execute_result"
    }
   ],
   "source": [
    "vi_close.shape"
   ]
  },
  {
   "cell_type": "markdown",
   "metadata": {},
   "source": [
    "### Splitting Data into train and test dataset"
   ]
  },
  {
   "cell_type": "code",
   "execution_count": 15,
   "metadata": {},
   "outputs": [],
   "source": [
    "training_size = int(len(vi_close)*0.65)\n",
    "train_data, test_data = vi_close[:training_size,:], vi_close[training_size:,:]"
   ]
  },
  {
   "cell_type": "code",
   "execution_count": 16,
   "metadata": {},
   "outputs": [
    {
     "data": {
      "text/plain": [
       "array([[1.        ],\n",
       "       [0.94504964],\n",
       "       [0.94324255],\n",
       "       ...,\n",
       "       [0.08453724],\n",
       "       [0.08333813],\n",
       "       [0.08393768]])"
      ]
     },
     "execution_count": 16,
     "metadata": {},
     "output_type": "execute_result"
    }
   ],
   "source": [
    "vi_close"
   ]
  },
  {
   "cell_type": "code",
   "execution_count": 17,
   "metadata": {},
   "outputs": [
    {
     "data": {
      "text/plain": [
       "(788, 1)"
      ]
     },
     "execution_count": 17,
     "metadata": {},
     "output_type": "execute_result"
    }
   ],
   "source": [
    "train_data.shape"
   ]
  },
  {
   "cell_type": "code",
   "execution_count": 18,
   "metadata": {},
   "outputs": [
    {
     "data": {
      "text/plain": [
       "(425, 1)"
      ]
     },
     "execution_count": 18,
     "metadata": {},
     "output_type": "execute_result"
    }
   ],
   "source": [
    "test_data.shape"
   ]
  },
  {
   "cell_type": "markdown",
   "metadata": {},
   "source": [
    "### Data Preprocessing"
   ]
  },
  {
   "cell_type": "code",
   "execution_count": 19,
   "metadata": {},
   "outputs": [],
   "source": [
    "def create_dataset(dataset, timestamp = 1):\n",
    "    import numpy as np\n",
    "    dataX, dataY = [], []\n",
    "    for i in range(len(dataset) - timestamp -1):\n",
    "        a = dataset[i:(i+timestamp),0]\n",
    "        dataX.append(a)\n",
    "        dataY.append(dataset[i+timestamp,0])\n",
    "    return np.array(dataX), np.array(dataY)"
   ]
  },
  {
   "cell_type": "code",
   "execution_count": 20,
   "metadata": {},
   "outputs": [],
   "source": [
    "timestamp = 100\n",
    "X_train, y_train = create_dataset(train_data, timestamp)\n",
    "X_test, y_test = create_dataset(test_data, timestamp)"
   ]
  },
  {
   "cell_type": "code",
   "execution_count": 21,
   "metadata": {
    "scrolled": true
   },
   "outputs": [
    {
     "data": {
      "text/plain": [
       "(324, 100)"
      ]
     },
     "execution_count": 21,
     "metadata": {},
     "output_type": "execute_result"
    }
   ],
   "source": [
    "X_test.shape"
   ]
  },
  {
   "cell_type": "code",
   "execution_count": 22,
   "metadata": {},
   "outputs": [
    {
     "data": {
      "text/plain": [
       "(324,)"
      ]
     },
     "execution_count": 22,
     "metadata": {},
     "output_type": "execute_result"
    }
   ],
   "source": [
    "y_test.shape"
   ]
  },
  {
   "cell_type": "markdown",
   "metadata": {},
   "source": [
    "### Converting into 3 dimensional matrix for stacked LSTM Model"
   ]
  },
  {
   "cell_type": "code",
   "execution_count": 23,
   "metadata": {},
   "outputs": [],
   "source": [
    "X_train = X_train.reshape(X_train.shape[0], X_train.shape[1], 1)\n",
    "X_test = X_test.reshape(X_test.shape[0], X_test.shape[1], 1)"
   ]
  },
  {
   "cell_type": "markdown",
   "metadata": {},
   "source": [
    "### Importing tensorflow libraries"
   ]
  },
  {
   "cell_type": "code",
   "execution_count": 24,
   "metadata": {},
   "outputs": [],
   "source": [
    "from tensorflow.keras.models import Sequential\n",
    "from tensorflow.keras.layers import Dense\n",
    "from tensorflow.keras.layers import LSTM"
   ]
  },
  {
   "cell_type": "code",
   "execution_count": 25,
   "metadata": {},
   "outputs": [
    {
     "name": "stdout",
     "output_type": "stream",
     "text": [
      "WARNING:tensorflow:From C:\\ProgramData\\Anaconda3\\lib\\site-packages\\tensorflow\\python\\ops\\init_ops.py:1251: calling VarianceScaling.__init__ (from tensorflow.python.ops.init_ops) with dtype is deprecated and will be removed in a future version.\n",
      "Instructions for updating:\n",
      "Call initializer instance with the dtype argument instead of passing it to the constructor\n"
     ]
    }
   ],
   "source": [
    "model = Sequential()\n",
    "model.add(LSTM(50, return_sequences =True, input_shape = (100,1)))\n",
    "model.add(LSTM(50, return_sequences = True))\n",
    "model.add(LSTM(50))\n",
    "model.add(Dense(1))\n",
    "model.compile(loss = 'mean_squared_error', optimizer = 'adam')"
   ]
  },
  {
   "cell_type": "code",
   "execution_count": 26,
   "metadata": {},
   "outputs": [
    {
     "name": "stdout",
     "output_type": "stream",
     "text": [
      "Model: \"sequential\"\n",
      "_________________________________________________________________\n",
      "Layer (type)                 Output Shape              Param #   \n",
      "=================================================================\n",
      "lstm (LSTM)                  (None, 100, 50)           10400     \n",
      "_________________________________________________________________\n",
      "lstm_1 (LSTM)                (None, 100, 50)           20200     \n",
      "_________________________________________________________________\n",
      "lstm_2 (LSTM)                (None, 50)                20200     \n",
      "_________________________________________________________________\n",
      "dense (Dense)                (None, 1)                 51        \n",
      "=================================================================\n",
      "Total params: 50,851\n",
      "Trainable params: 50,851\n",
      "Non-trainable params: 0\n",
      "_________________________________________________________________\n"
     ]
    }
   ],
   "source": [
    "model.summary()"
   ]
  },
  {
   "cell_type": "code",
   "execution_count": null,
   "metadata": {},
   "outputs": [
    {
     "name": "stdout",
     "output_type": "stream",
     "text": [
      "Train on 687 samples, validate on 324 samples\n",
      "WARNING:tensorflow:From C:\\ProgramData\\Anaconda3\\lib\\site-packages\\tensorflow\\python\\ops\\math_grad.py:1250: add_dispatch_support.<locals>.wrapper (from tensorflow.python.ops.array_ops) is deprecated and will be removed in a future version.\n",
      "Instructions for updating:\n",
      "Use tf.where in 2.0, which has the same broadcast rule as np.where\n",
      "Epoch 1/50\n",
      "687/687 - 5s - loss: 0.1154 - val_loss: 0.0263\n",
      "Epoch 2/50\n",
      "687/687 - 2s - loss: 0.0149 - val_loss: 0.0180\n",
      "Epoch 3/50\n",
      "687/687 - 2s - loss: 0.0072 - val_loss: 0.0204\n",
      "Epoch 4/50\n",
      "687/687 - 3s - loss: 0.0054 - val_loss: 0.0189\n",
      "Epoch 5/50\n",
      "687/687 - 4s - loss: 0.0045 - val_loss: 0.0124\n",
      "Epoch 6/50\n",
      "687/687 - 4s - loss: 0.0037 - val_loss: 0.0089\n",
      "Epoch 7/50\n",
      "687/687 - 4s - loss: 0.0031 - val_loss: 0.0053\n",
      "Epoch 8/50\n",
      "687/687 - 4s - loss: 0.0028 - val_loss: 0.0031\n",
      "Epoch 9/50\n",
      "687/687 - 4s - loss: 0.0027 - val_loss: 0.0021\n",
      "Epoch 10/50\n",
      "687/687 - 4s - loss: 0.0026 - val_loss: 0.0016\n",
      "Epoch 11/50\n",
      "687/687 - 4s - loss: 0.0026 - val_loss: 0.0015\n",
      "Epoch 12/50\n",
      "687/687 - 2s - loss: 0.0026 - val_loss: 0.0014\n",
      "Epoch 13/50\n",
      "687/687 - 2s - loss: 0.0025 - val_loss: 0.0013\n",
      "Epoch 14/50\n",
      "687/687 - 3s - loss: 0.0024 - val_loss: 0.0013\n",
      "Epoch 15/50\n",
      "687/687 - 4s - loss: 0.0024 - val_loss: 0.0013\n",
      "Epoch 16/50\n",
      "687/687 - 4s - loss: 0.0025 - val_loss: 0.0014\n",
      "Epoch 17/50\n",
      "687/687 - 4s - loss: 0.0024 - val_loss: 0.0013\n",
      "Epoch 18/50\n",
      "687/687 - 3s - loss: 0.0024 - val_loss: 0.0012\n",
      "Epoch 19/50\n",
      "687/687 - 4s - loss: 0.0023 - val_loss: 0.0010\n",
      "Epoch 20/50\n",
      "687/687 - 4s - loss: 0.0021 - val_loss: 9.0828e-04\n",
      "Epoch 21/50\n",
      "687/687 - 3s - loss: 0.0021 - val_loss: 7.7908e-04\n",
      "Epoch 22/50\n",
      "687/687 - 4s - loss: 0.0021 - val_loss: 5.3581e-04\n",
      "Epoch 23/50\n",
      "687/687 - 3s - loss: 0.0021 - val_loss: 5.6754e-04\n",
      "Epoch 24/50\n",
      "687/687 - 4s - loss: 0.0019 - val_loss: 5.1021e-04\n",
      "Epoch 25/50\n",
      "687/687 - 4s - loss: 0.0019 - val_loss: 3.6517e-04\n",
      "Epoch 26/50\n",
      "687/687 - 3s - loss: 0.0017 - val_loss: 3.0360e-04\n",
      "Epoch 27/50\n",
      "687/687 - 4s - loss: 0.0018 - val_loss: 2.1222e-04\n",
      "Epoch 28/50\n",
      "687/687 - 4s - loss: 0.0017 - val_loss: 1.9809e-04\n",
      "Epoch 29/50\n",
      "687/687 - 3s - loss: 0.0016 - val_loss: 1.8736e-04\n",
      "Epoch 30/50\n",
      "687/687 - 4s - loss: 0.0016 - val_loss: 2.2391e-04\n",
      "Epoch 31/50\n",
      "687/687 - 4s - loss: 0.0015 - val_loss: 2.4343e-04\n",
      "Epoch 32/50\n",
      "687/687 - 4s - loss: 0.0015 - val_loss: 2.4795e-04\n",
      "Epoch 33/50\n",
      "687/687 - 4s - loss: 0.0015 - val_loss: 2.7158e-04\n",
      "Epoch 34/50\n",
      "687/687 - 3s - loss: 0.0015 - val_loss: 3.1320e-04\n",
      "Epoch 35/50\n",
      "687/687 - 3s - loss: 0.0015 - val_loss: 3.1723e-04\n",
      "Epoch 36/50\n",
      "687/687 - 3s - loss: 0.0015 - val_loss: 2.3303e-04\n",
      "Epoch 37/50\n",
      "687/687 - 4s - loss: 0.0017 - val_loss: 3.2104e-04\n",
      "Epoch 38/50\n",
      "687/687 - 4s - loss: 0.0015 - val_loss: 2.6976e-04\n",
      "Epoch 39/50\n",
      "687/687 - 4s - loss: 0.0016 - val_loss: 2.4289e-04\n",
      "Epoch 40/50\n",
      "687/687 - 4s - loss: 0.0015 - val_loss: 2.5141e-04\n",
      "Epoch 41/50\n",
      "687/687 - 4s - loss: 0.0014 - val_loss: 2.9444e-04\n",
      "Epoch 42/50\n",
      "687/687 - 4s - loss: 0.0014 - val_loss: 2.5851e-04\n",
      "Epoch 43/50\n",
      "687/687 - 4s - loss: 0.0014 - val_loss: 2.5690e-04\n",
      "Epoch 44/50\n",
      "687/687 - 4s - loss: 0.0013 - val_loss: 3.3316e-04\n",
      "Epoch 45/50\n",
      "687/687 - 3s - loss: 0.0014 - val_loss: 2.5243e-04\n",
      "Epoch 46/50\n",
      "687/687 - 4s - loss: 0.0015 - val_loss: 2.6293e-04\n",
      "Epoch 47/50\n",
      "687/687 - 5s - loss: 0.0014 - val_loss: 2.4855e-04\n",
      "Epoch 48/50\n",
      "687/687 - 4s - loss: 0.0015 - val_loss: 3.0389e-04\n",
      "Epoch 49/50\n"
     ]
    }
   ],
   "source": [
    "model.fit(X_train, y_train, validation_data = (X_test, y_test), batch_size = 64, epochs = 50, verbose =2)"
   ]
  },
  {
   "cell_type": "code",
   "execution_count": null,
   "metadata": {},
   "outputs": [],
   "source": [
    "train_predict = model.predict(X_train)\n",
    "test_predict = model.predict(X_test)"
   ]
  },
  {
   "cell_type": "code",
   "execution_count": null,
   "metadata": {},
   "outputs": [],
   "source": [
    "train_predict = scaler.inverse_transform(train_predict)\n",
    "test_predict = scaler.inverse_transform(test_predict)"
   ]
  },
  {
   "cell_type": "code",
   "execution_count": null,
   "metadata": {},
   "outputs": [],
   "source": [
    "from sklearn.metrics import mean_squared_error\n",
    "np.sqrt(mean_squared_error(y_train, train_predict))"
   ]
  },
  {
   "cell_type": "code",
   "execution_count": null,
   "metadata": {},
   "outputs": [],
   "source": [
    "np.sqrt(mean_squared_error(y_test, test_predict))"
   ]
  },
  {
   "cell_type": "code",
   "execution_count": null,
   "metadata": {},
   "outputs": [],
   "source": [
    "lookback = timestamp\n",
    "# shift trainpredictions for plotting\n",
    "trainPredictPlot = np.empty_like(vi_close)\n",
    "trainPredictPlot[:,:] = np.nan\n",
    "trainPredictPlot[lookback:len(train_predict)+lookback, :] = train_predict\n",
    "\n",
    "# shift test predictions for plotting \n",
    "testPredictPlot = np.empty_like(vi_close)\n",
    "testPredictPlot[:,:] = np.nan\n",
    "testPredictPlot[len(train_predict)+(lookback*2)+1:len(vi_close)-1, :] = test_predict\n",
    "\n",
    "# plot baseline and predictions\n",
    "plt.figure(figsize = [20,6])\n",
    "plt.plot(scaler.inverse_transform(vi_close))\n",
    "plt.plot(trainPredictPlot)\n",
    "plt.plot(testPredictPlot)\n",
    "plt.show()"
   ]
  },
  {
   "cell_type": "code",
   "execution_count": null,
   "metadata": {},
   "outputs": [],
   "source": [
    "X_input = test_data[len(test_data)-timestamp:].reshape(1,-1)\n",
    "X_input.shape"
   ]
  },
  {
   "cell_type": "code",
   "execution_count": null,
   "metadata": {},
   "outputs": [],
   "source": [
    "temp_input = list(X_input)\n",
    "temp_input = temp_input[0].tolist()"
   ]
  },
  {
   "cell_type": "code",
   "execution_count": null,
   "metadata": {},
   "outputs": [],
   "source": [
    "from numpy import array\n",
    "lst_output = []\n",
    "n_steps = timestamp\n",
    "i=0\n",
    "while(i<30):\n",
    "    if len(temp_input)>100:\n",
    "        X_input = np.array(temp_input[1:])\n",
    "        print(\"{} day input {}\".format(i, X_input))\n",
    "        X_input = X_input.reshape(1,-1)\n",
    "        X_input =X_input.reshape((1, n_steps, 1))\n",
    "        \n",
    "        y_hat = model.predict(X_input, verbose = 0)\n",
    "        print(\"{} day output {}\".format(i, y_hat))\n",
    "        temp_input.extend(y_hat[0].tolist())\n",
    "        temp_input = temp_input[1:]\n",
    "        \n",
    "        lst_output.extend(y_hat.tolist())\n",
    "        i = i+1\n",
    "        \n",
    "    else:\n",
    "        X_input = X_input.reshape((1, n_steps, 1))\n",
    "        y_hat = model.predict(X_input, verbose = 0)\n",
    "        print(y_hat[0])\n",
    "        temp_input.extend(y_hat[0].tolist())\n",
    "        print(len(temp_input))\n",
    "        i = i+1"
   ]
  },
  {
   "cell_type": "code",
   "execution_count": null,
   "metadata": {},
   "outputs": [],
   "source": [
    "day_new = np.arange(1,101)\n",
    "day_pred = np.arange(101,130)"
   ]
  },
  {
   "cell_type": "code",
   "execution_count": null,
   "metadata": {},
   "outputs": [],
   "source": [
    "vi_close_1 = vi_close.tolist()\n",
    "vi_close_1.extend(lst_output)"
   ]
  },
  {
   "cell_type": "code",
   "execution_count": null,
   "metadata": {},
   "outputs": [],
   "source": [
    "plt.plot(day_new, scaler.inverse_transform(vi_close[1113:]))\n",
    "plt.plot(day_pred, scaler.inverse_transform(lst_output))"
   ]
  },
  {
   "cell_type": "code",
   "execution_count": null,
   "metadata": {},
   "outputs": [],
   "source": [
    "future_forecast = scaler.inverse_transform(lst_output)\n",
    "len(future_forecast)"
   ]
  },
  {
   "cell_type": "code",
   "execution_count": null,
   "metadata": {},
   "outputs": [],
   "source": [
    "start = datetime.datetime(2020,12,5)\n",
    "end = datetime.datetime(2021,1,15)\n",
    "forecast = pd.DataFrame(pd.bdate_range(start, end), columns = ['Date'])"
   ]
  },
  {
   "cell_type": "code",
   "execution_count": null,
   "metadata": {},
   "outputs": [],
   "source": [
    "forecast = forecast.loc[:28]\n",
    "forecast['Idea NSE Closing Price'] = future_forecast"
   ]
  },
  {
   "cell_type": "code",
   "execution_count": null,
   "metadata": {},
   "outputs": [],
   "source": [
    "forecast"
   ]
  },
  {
   "cell_type": "code",
   "execution_count": null,
   "metadata": {},
   "outputs": [],
   "source": []
  }
 ],
 "metadata": {
  "kernelspec": {
   "display_name": "Python 3",
   "language": "python",
   "name": "python3"
  },
  "language_info": {
   "codemirror_mode": {
    "name": "ipython",
    "version": 3
   },
   "file_extension": ".py",
   "mimetype": "text/x-python",
   "name": "python",
   "nbconvert_exporter": "python",
   "pygments_lexer": "ipython3",
   "version": "3.7.7"
  }
 },
 "nbformat": 4,
 "nbformat_minor": 4
}
